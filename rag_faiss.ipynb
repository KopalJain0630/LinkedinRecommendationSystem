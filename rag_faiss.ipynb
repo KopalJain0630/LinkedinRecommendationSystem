{
 "cells": [
  {
   "cell_type": "code",
   "execution_count": null,
   "metadata": {},
   "outputs": [],
   "source": []
  },
  {
   "cell_type": "code",
   "execution_count": 1,
   "metadata": {},
   "outputs": [
    {
     "name": "stdout",
     "output_type": "stream",
     "text": [
      "Requirement already satisfied: openai in c:\\users\\kopal\\appdata\\local\\programs\\python\\python313\\lib\\site-packages (1.59.4)\n",
      "Requirement already satisfied: faiss-cpu in c:\\users\\kopal\\appdata\\local\\programs\\python\\python313\\lib\\site-packages (1.9.0.post1)\n",
      "Requirement already satisfied: numpy in c:\\users\\kopal\\appdata\\local\\programs\\python\\python313\\lib\\site-packages (2.2.1)\n",
      "Requirement already satisfied: groq in c:\\users\\kopal\\appdata\\local\\programs\\python\\python313\\lib\\site-packages (0.13.1)\n",
      "Requirement already satisfied: langchain in c:\\users\\kopal\\appdata\\local\\programs\\python\\python313\\lib\\site-packages (0.3.14)\n",
      "Requirement already satisfied: langchain-community in c:\\users\\kopal\\appdata\\local\\programs\\python\\python313\\lib\\site-packages (0.3.14)\n",
      "Requirement already satisfied: langchain-openai in c:\\users\\kopal\\appdata\\local\\programs\\python\\python313\\lib\\site-packages (0.2.14)\n",
      "Requirement already satisfied: langchain-core in c:\\users\\kopal\\appdata\\local\\programs\\python\\python313\\lib\\site-packages (0.3.29)\n",
      "Requirement already satisfied: langchain-groq in c:\\users\\kopal\\appdata\\local\\programs\\python\\python313\\lib\\site-packages (0.2.3)\n",
      "Requirement already satisfied: streamlit in c:\\users\\kopal\\appdata\\local\\programs\\python\\python313\\lib\\site-packages (1.41.1)\n",
      "Requirement already satisfied: jq in c:\\users\\kopal\\appdata\\local\\programs\\python\\python313\\lib\\site-packages (1.8.0)\n",
      "Requirement already satisfied: anyio<5,>=3.5.0 in c:\\users\\kopal\\appdata\\local\\programs\\python\\python313\\lib\\site-packages (from openai) (4.8.0)\n",
      "Requirement already satisfied: distro<2,>=1.7.0 in c:\\users\\kopal\\appdata\\local\\programs\\python\\python313\\lib\\site-packages (from openai) (1.9.0)\n",
      "Requirement already satisfied: httpx<1,>=0.23.0 in c:\\users\\kopal\\appdata\\local\\programs\\python\\python313\\lib\\site-packages (from openai) (0.28.1)\n",
      "Requirement already satisfied: jiter<1,>=0.4.0 in c:\\users\\kopal\\appdata\\local\\programs\\python\\python313\\lib\\site-packages (from openai) (0.8.2)\n",
      "Requirement already satisfied: pydantic<3,>=1.9.0 in c:\\users\\kopal\\appdata\\local\\programs\\python\\python313\\lib\\site-packages (from openai) (2.10.4)\n",
      "Requirement already satisfied: sniffio in c:\\users\\kopal\\appdata\\local\\programs\\python\\python313\\lib\\site-packages (from openai) (1.3.1)\n",
      "Requirement already satisfied: tqdm>4 in c:\\users\\kopal\\appdata\\local\\programs\\python\\python313\\lib\\site-packages (from openai) (4.67.1)\n",
      "Requirement already satisfied: typing-extensions<5,>=4.11 in c:\\users\\kopal\\appdata\\local\\programs\\python\\python313\\lib\\site-packages (from openai) (4.12.2)\n",
      "Requirement already satisfied: packaging in c:\\users\\kopal\\appdata\\roaming\\python\\python313\\site-packages (from faiss-cpu) (24.2)\n",
      "Requirement already satisfied: PyYAML>=5.3 in c:\\users\\kopal\\appdata\\local\\programs\\python\\python313\\lib\\site-packages (from langchain) (6.0.2)\n",
      "Requirement already satisfied: SQLAlchemy<3,>=1.4 in c:\\users\\kopal\\appdata\\local\\programs\\python\\python313\\lib\\site-packages (from langchain) (2.0.36)\n",
      "Requirement already satisfied: aiohttp<4.0.0,>=3.8.3 in c:\\users\\kopal\\appdata\\local\\programs\\python\\python313\\lib\\site-packages (from langchain) (3.11.11)\n",
      "Requirement already satisfied: langchain-text-splitters<0.4.0,>=0.3.3 in c:\\users\\kopal\\appdata\\local\\programs\\python\\python313\\lib\\site-packages (from langchain) (0.3.5)\n",
      "Requirement already satisfied: langsmith<0.3,>=0.1.17 in c:\\users\\kopal\\appdata\\local\\programs\\python\\python313\\lib\\site-packages (from langchain) (0.2.10)\n",
      "Requirement already satisfied: requests<3,>=2 in c:\\users\\kopal\\appdata\\local\\programs\\python\\python313\\lib\\site-packages (from langchain) (2.32.3)\n",
      "Requirement already satisfied: tenacity!=8.4.0,<10,>=8.1.0 in c:\\users\\kopal\\appdata\\local\\programs\\python\\python313\\lib\\site-packages (from langchain) (9.0.0)\n",
      "Requirement already satisfied: dataclasses-json<0.7,>=0.5.7 in c:\\users\\kopal\\appdata\\local\\programs\\python\\python313\\lib\\site-packages (from langchain-community) (0.6.7)\n",
      "Requirement already satisfied: httpx-sse<0.5.0,>=0.4.0 in c:\\users\\kopal\\appdata\\local\\programs\\python\\python313\\lib\\site-packages (from langchain-community) (0.4.0)\n",
      "Requirement already satisfied: pydantic-settings<3.0.0,>=2.4.0 in c:\\users\\kopal\\appdata\\local\\programs\\python\\python313\\lib\\site-packages (from langchain-community) (2.7.1)\n",
      "Requirement already satisfied: tiktoken<1,>=0.7 in c:\\users\\kopal\\appdata\\local\\programs\\python\\python313\\lib\\site-packages (from langchain-openai) (0.8.0)\n",
      "Requirement already satisfied: jsonpatch<2.0,>=1.33 in c:\\users\\kopal\\appdata\\local\\programs\\python\\python313\\lib\\site-packages (from langchain-core) (1.33)\n",
      "Requirement already satisfied: altair<6,>=4.0 in c:\\users\\kopal\\appdata\\local\\programs\\python\\python313\\lib\\site-packages (from streamlit) (5.5.0)\n",
      "Requirement already satisfied: blinker<2,>=1.0.0 in c:\\users\\kopal\\appdata\\local\\programs\\python\\python313\\lib\\site-packages (from streamlit) (1.9.0)\n",
      "Requirement already satisfied: cachetools<6,>=4.0 in c:\\users\\kopal\\appdata\\local\\programs\\python\\python313\\lib\\site-packages (from streamlit) (5.5.0)\n",
      "Requirement already satisfied: click<9,>=7.0 in c:\\users\\kopal\\appdata\\local\\programs\\python\\python313\\lib\\site-packages (from streamlit) (8.1.8)\n",
      "Requirement already satisfied: pandas<3,>=1.4.0 in c:\\users\\kopal\\appdata\\local\\programs\\python\\python313\\lib\\site-packages (from streamlit) (2.2.3)\n",
      "Requirement already satisfied: pillow<12,>=7.1.0 in c:\\users\\kopal\\appdata\\local\\programs\\python\\python313\\lib\\site-packages (from streamlit) (11.1.0)\n",
      "Requirement already satisfied: protobuf<6,>=3.20 in c:\\users\\kopal\\appdata\\local\\programs\\python\\python313\\lib\\site-packages (from streamlit) (5.29.2)\n",
      "Requirement already satisfied: pyarrow>=7.0 in c:\\users\\kopal\\appdata\\local\\programs\\python\\python313\\lib\\site-packages (from streamlit) (18.1.0)\n",
      "Requirement already satisfied: rich<14,>=10.14.0 in c:\\users\\kopal\\appdata\\local\\programs\\python\\python313\\lib\\site-packages (from streamlit) (13.9.4)\n",
      "Requirement already satisfied: toml<2,>=0.10.1 in c:\\users\\kopal\\appdata\\local\\programs\\python\\python313\\lib\\site-packages (from streamlit) (0.10.2)\n",
      "Requirement already satisfied: watchdog<7,>=2.1.5 in c:\\users\\kopal\\appdata\\local\\programs\\python\\python313\\lib\\site-packages (from streamlit) (6.0.0)\n",
      "Requirement already satisfied: gitpython!=3.1.19,<4,>=3.0.7 in c:\\users\\kopal\\appdata\\local\\programs\\python\\python313\\lib\\site-packages (from streamlit) (3.1.44)\n",
      "Requirement already satisfied: pydeck<1,>=0.8.0b4 in c:\\users\\kopal\\appdata\\local\\programs\\python\\python313\\lib\\site-packages (from streamlit) (0.9.1)\n",
      "Requirement already satisfied: tornado<7,>=6.0.3 in c:\\users\\kopal\\appdata\\roaming\\python\\python313\\site-packages (from streamlit) (6.4.2)\n",
      "Requirement already satisfied: aiohappyeyeballs>=2.3.0 in c:\\users\\kopal\\appdata\\local\\programs\\python\\python313\\lib\\site-packages (from aiohttp<4.0.0,>=3.8.3->langchain) (2.4.4)\n",
      "Requirement already satisfied: aiosignal>=1.1.2 in c:\\users\\kopal\\appdata\\local\\programs\\python\\python313\\lib\\site-packages (from aiohttp<4.0.0,>=3.8.3->langchain) (1.3.2)\n",
      "Requirement already satisfied: attrs>=17.3.0 in c:\\users\\kopal\\appdata\\local\\programs\\python\\python313\\lib\\site-packages (from aiohttp<4.0.0,>=3.8.3->langchain) (24.3.0)\n",
      "Requirement already satisfied: frozenlist>=1.1.1 in c:\\users\\kopal\\appdata\\local\\programs\\python\\python313\\lib\\site-packages (from aiohttp<4.0.0,>=3.8.3->langchain) (1.5.0)\n",
      "Requirement already satisfied: multidict<7.0,>=4.5 in c:\\users\\kopal\\appdata\\local\\programs\\python\\python313\\lib\\site-packages (from aiohttp<4.0.0,>=3.8.3->langchain) (6.1.0)\n",
      "Requirement already satisfied: propcache>=0.2.0 in c:\\users\\kopal\\appdata\\local\\programs\\python\\python313\\lib\\site-packages (from aiohttp<4.0.0,>=3.8.3->langchain) (0.2.1)\n",
      "Requirement already satisfied: yarl<2.0,>=1.17.0 in c:\\users\\kopal\\appdata\\local\\programs\\python\\python313\\lib\\site-packages (from aiohttp<4.0.0,>=3.8.3->langchain) (1.18.3)\n",
      "Requirement already satisfied: jinja2 in c:\\users\\kopal\\appdata\\local\\programs\\python\\python313\\lib\\site-packages (from altair<6,>=4.0->streamlit) (3.1.5)\n",
      "Requirement already satisfied: jsonschema>=3.0 in c:\\users\\kopal\\appdata\\local\\programs\\python\\python313\\lib\\site-packages (from altair<6,>=4.0->streamlit) (4.23.0)\n",
      "Requirement already satisfied: narwhals>=1.14.2 in c:\\users\\kopal\\appdata\\local\\programs\\python\\python313\\lib\\site-packages (from altair<6,>=4.0->streamlit) (1.21.1)\n",
      "Requirement already satisfied: idna>=2.8 in c:\\users\\kopal\\appdata\\local\\programs\\python\\python313\\lib\\site-packages (from anyio<5,>=3.5.0->openai) (3.10)\n",
      "Requirement already satisfied: colorama in c:\\users\\kopal\\appdata\\roaming\\python\\python313\\site-packages (from click<9,>=7.0->streamlit) (0.4.6)\n",
      "Requirement already satisfied: marshmallow<4.0.0,>=3.18.0 in c:\\users\\kopal\\appdata\\local\\programs\\python\\python313\\lib\\site-packages (from dataclasses-json<0.7,>=0.5.7->langchain-community) (3.24.1)\n",
      "Requirement already satisfied: typing-inspect<1,>=0.4.0 in c:\\users\\kopal\\appdata\\local\\programs\\python\\python313\\lib\\site-packages (from dataclasses-json<0.7,>=0.5.7->langchain-community) (0.9.0)\n",
      "Requirement already satisfied: gitdb<5,>=4.0.1 in c:\\users\\kopal\\appdata\\local\\programs\\python\\python313\\lib\\site-packages (from gitpython!=3.1.19,<4,>=3.0.7->streamlit) (4.0.12)\n",
      "Requirement already satisfied: certifi in c:\\users\\kopal\\appdata\\local\\programs\\python\\python313\\lib\\site-packages (from httpx<1,>=0.23.0->openai) (2024.12.14)\n",
      "Requirement already satisfied: httpcore==1.* in c:\\users\\kopal\\appdata\\local\\programs\\python\\python313\\lib\\site-packages (from httpx<1,>=0.23.0->openai) (1.0.7)\n",
      "Requirement already satisfied: h11<0.15,>=0.13 in c:\\users\\kopal\\appdata\\local\\programs\\python\\python313\\lib\\site-packages (from httpcore==1.*->httpx<1,>=0.23.0->openai) (0.14.0)\n",
      "Requirement already satisfied: jsonpointer>=1.9 in c:\\users\\kopal\\appdata\\local\\programs\\python\\python313\\lib\\site-packages (from jsonpatch<2.0,>=1.33->langchain-core) (3.0.0)\n",
      "Requirement already satisfied: orjson<4.0.0,>=3.9.14 in c:\\users\\kopal\\appdata\\local\\programs\\python\\python313\\lib\\site-packages (from langsmith<0.3,>=0.1.17->langchain) (3.10.13)\n",
      "Requirement already satisfied: requests-toolbelt<2.0.0,>=1.0.0 in c:\\users\\kopal\\appdata\\local\\programs\\python\\python313\\lib\\site-packages (from langsmith<0.3,>=0.1.17->langchain) (1.0.0)\n",
      "Requirement already satisfied: python-dateutil>=2.8.2 in c:\\users\\kopal\\appdata\\roaming\\python\\python313\\site-packages (from pandas<3,>=1.4.0->streamlit) (2.9.0.post0)\n",
      "Requirement already satisfied: pytz>=2020.1 in c:\\users\\kopal\\appdata\\local\\programs\\python\\python313\\lib\\site-packages (from pandas<3,>=1.4.0->streamlit) (2024.2)\n",
      "Requirement already satisfied: tzdata>=2022.7 in c:\\users\\kopal\\appdata\\local\\programs\\python\\python313\\lib\\site-packages (from pandas<3,>=1.4.0->streamlit) (2024.2)\n",
      "Requirement already satisfied: annotated-types>=0.6.0 in c:\\users\\kopal\\appdata\\local\\programs\\python\\python313\\lib\\site-packages (from pydantic<3,>=1.9.0->openai) (0.7.0)\n",
      "Requirement already satisfied: pydantic-core==2.27.2 in c:\\users\\kopal\\appdata\\local\\programs\\python\\python313\\lib\\site-packages (from pydantic<3,>=1.9.0->openai) (2.27.2)\n",
      "Requirement already satisfied: python-dotenv>=0.21.0 in c:\\users\\kopal\\appdata\\local\\programs\\python\\python313\\lib\\site-packages (from pydantic-settings<3.0.0,>=2.4.0->langchain-community) (1.0.1)\n",
      "Requirement already satisfied: charset-normalizer<4,>=2 in c:\\users\\kopal\\appdata\\local\\programs\\python\\python313\\lib\\site-packages (from requests<3,>=2->langchain) (3.4.1)\n",
      "Requirement already satisfied: urllib3<3,>=1.21.1 in c:\\users\\kopal\\appdata\\local\\programs\\python\\python313\\lib\\site-packages (from requests<3,>=2->langchain) (2.3.0)\n",
      "Requirement already satisfied: markdown-it-py>=2.2.0 in c:\\users\\kopal\\appdata\\local\\programs\\python\\python313\\lib\\site-packages (from rich<14,>=10.14.0->streamlit) (3.0.0)\n",
      "Requirement already satisfied: pygments<3.0.0,>=2.13.0 in c:\\users\\kopal\\appdata\\roaming\\python\\python313\\site-packages (from rich<14,>=10.14.0->streamlit) (2.18.0)\n",
      "Requirement already satisfied: regex>=2022.1.18 in c:\\users\\kopal\\appdata\\local\\programs\\python\\python313\\lib\\site-packages (from tiktoken<1,>=0.7->langchain-openai) (2024.11.6)\n",
      "Requirement already satisfied: smmap<6,>=3.0.1 in c:\\users\\kopal\\appdata\\local\\programs\\python\\python313\\lib\\site-packages (from gitdb<5,>=4.0.1->gitpython!=3.1.19,<4,>=3.0.7->streamlit) (5.0.2)\n",
      "Requirement already satisfied: MarkupSafe>=2.0 in c:\\users\\kopal\\appdata\\local\\programs\\python\\python313\\lib\\site-packages (from jinja2->altair<6,>=4.0->streamlit) (3.0.2)\n",
      "Requirement already satisfied: jsonschema-specifications>=2023.03.6 in c:\\users\\kopal\\appdata\\local\\programs\\python\\python313\\lib\\site-packages (from jsonschema>=3.0->altair<6,>=4.0->streamlit) (2024.10.1)\n",
      "Requirement already satisfied: referencing>=0.28.4 in c:\\users\\kopal\\appdata\\local\\programs\\python\\python313\\lib\\site-packages (from jsonschema>=3.0->altair<6,>=4.0->streamlit) (0.35.1)\n",
      "Requirement already satisfied: rpds-py>=0.7.1 in c:\\users\\kopal\\appdata\\local\\programs\\python\\python313\\lib\\site-packages (from jsonschema>=3.0->altair<6,>=4.0->streamlit) (0.22.3)\n",
      "Requirement already satisfied: mdurl~=0.1 in c:\\users\\kopal\\appdata\\local\\programs\\python\\python313\\lib\\site-packages (from markdown-it-py>=2.2.0->rich<14,>=10.14.0->streamlit) (0.1.2)\n",
      "Requirement already satisfied: six>=1.5 in c:\\users\\kopal\\appdata\\roaming\\python\\python313\\site-packages (from python-dateutil>=2.8.2->pandas<3,>=1.4.0->streamlit) (1.17.0)\n",
      "Requirement already satisfied: mypy-extensions>=0.3.0 in c:\\users\\kopal\\appdata\\local\\programs\\python\\python313\\lib\\site-packages (from typing-inspect<1,>=0.4.0->dataclasses-json<0.7,>=0.5.7->langchain-community) (1.0.0)\n"
     ]
    }
   ],
   "source": [
    "!pip install openai faiss-cpu numpy groq langchain langchain-community langchain-openai langchain-core langchain-groq streamlit jq"
   ]
  },
  {
   "cell_type": "code",
   "execution_count": 1,
   "metadata": {},
   "outputs": [],
   "source": [
    "import os\n",
    "import streamlit as st\n",
    "import json\n",
    "import numpy as np\n",
    "import requests\n",
    "from langchain.embeddings import OllamaEmbeddings\n",
    "from langchain.vectorstores import FAISS\n",
    "from langchain.document_loaders import JSONLoader\n",
    "from langchain.prompts import PromptTemplate\n",
    "from langchain.chains import RetrievalQA\n",
    "from langchain_core.prompts import ChatPromptTemplate"
   ]
  },
  {
   "cell_type": "code",
   "execution_count": 2,
   "metadata": {},
   "outputs": [
    {
     "data": {
      "text/plain": [
       "True"
      ]
     },
     "execution_count": 2,
     "metadata": {},
     "output_type": "execute_result"
    }
   ],
   "source": [
    "from openai import OpenAI\n",
    "os.environ[\"OPENAI_API_KEY\"] = \"YOUR_API_KEY\"\n",
    "from dotenv import load_dotenv\n",
    "load_dotenv()"
   ]
  },
  {
   "cell_type": "code",
   "execution_count": 3,
   "metadata": {},
   "outputs": [],
   "source": [
    "from langchain.embeddings import OpenAIEmbeddings\n",
    "from langchain.vectorstores import FAISS\n",
    "from langchain.schema import Document\n",
    "import pickle\n",
    "FAISS_INDEX_PATH = \"faiss_index\"\n",
    "PROCESSED_FILES_PATH = \"processed_files.pkl\"\n",
    "\n",
    "# Step 1: Load all JSON files from the folder\n",
    "def load_json_files(folder_path):\n",
    "    documents = []\n",
    "    for file_name in os.listdir(folder_path):\n",
    "        if file_name.endswith(\".json\"):\n",
    "            file_path = os.path.join(folder_path, file_name)\n",
    "            with open(file_path, 'r', encoding='utf-8') as file:\n",
    "                data = json.load(file)\n",
    "                content = json.dumps(data, indent=2)\n",
    "                doc = Document(page_content=content, metadata={\"id\": os.path.splitext(file_name)[0]})\n",
    "                documents.append(doc)\n",
    "    return documents\n",
    "\n",
    "# Folder containing the JSON files\n",
    "folder_path = \"final_user_profiles\"\n",
    "documents = load_json_files(folder_path)"
   ]
  },
  {
   "cell_type": "code",
   "execution_count": 4,
   "metadata": {},
   "outputs": [],
   "source": [
    "def load_vector_store():\n",
    "    if os.path.exists(FAISS_INDEX_PATH):\n",
    "        # Enable dangerous deserialization\n",
    "        return FAISS.load_local(FAISS_INDEX_PATH, OpenAIEmbeddings(model=\"text-embedding-3-large\"), allow_dangerous_deserialization=True)\n",
    "    else:\n",
    "        return None"
   ]
  },
  {
   "cell_type": "code",
   "execution_count": 5,
   "metadata": {},
   "outputs": [],
   "source": [
    "def load_processed_files():\n",
    "    if os.path.exists(PROCESSED_FILES_PATH):\n",
    "        try:\n",
    "            with open(PROCESSED_FILES_PATH, \"rb\") as f:\n",
    "                processed_files = pickle.load(f)\n",
    "                if isinstance(processed_files, set):\n",
    "                    return processed_files\n",
    "                else:\n",
    "                    print(\"Warning: Processed files data is not a set. Resetting to an empty set.\")\n",
    "                    return set()\n",
    "        except (EOFError, pickle.UnpicklingError):\n",
    "            print(\"Warning: Processed files pickle file is empty or corrupted. Resetting to an empty set.\")\n",
    "            return set()\n",
    "    else:\n",
    "        return set()"
   ]
  },
  {
   "cell_type": "code",
   "execution_count": 6,
   "metadata": {},
   "outputs": [],
   "source": [
    "def save_processed_files(processed_files):\n",
    "    with open(PROCESSED_FILES_PATH, \"wb\") as f:\n",
    "        pickle.dump(processed_files, f)"
   ]
  },
  {
   "cell_type": "code",
   "execution_count": 7,
   "metadata": {},
   "outputs": [],
   "source": [
    "def update_vector_store(folder_path):\n",
    "    documents = load_json_files(folder_path)\n",
    "    processed_files = load_processed_files()\n",
    "    vector_store = load_vector_store()\n",
    "    \n",
    "    if vector_store is None:\n",
    "        # Initialize a new vector store if it doesn't exist\n",
    "        vector_store = FAISS.from_documents(documents, OpenAIEmbeddings(model=\"text-embedding-3-large\"))\n",
    "    \n",
    "    # Identify new files\n",
    "    new_documents = [doc for doc in documents if doc.metadata[\"id\"] not in processed_files]\n",
    "    \n",
    "    if new_documents:\n",
    "        print(f\"Embedding {len(new_documents)} new files...\")\n",
    "        vector_store.add_documents(new_documents)\n",
    "        \n",
    "        # Update processed files list\n",
    "        processed_files.update(doc.metadata[\"id\"] for doc in new_documents)\n",
    "        save_processed_files(processed_files)\n",
    "        \n",
    "        # Save the updated vector store\n",
    "        vector_store.save_local(\"faiss_index\")\n",
    "    else:\n",
    "        print(\"No new files to embed.\")\n",
    "\n",
    "    return vector_store"
   ]
  },
  {
   "cell_type": "code",
   "execution_count": 8,
   "metadata": {},
   "outputs": [],
   "source": [
    "def find_similar_profiles(profile_id, k=5, folder_path=\"final_user_profiles\"):\n",
    "    vector_store = update_vector_store(folder_path)\n",
    "    processed_files = load_processed_files()\n",
    "    \n",
    "    if profile_id not in processed_files:\n",
    "        raise ValueError(f\"Profile with ID '{profile_id}' not found in the embedded data.\")\n",
    "    \n",
    "    # Retrieve the input document\n",
    "    documents = load_json_files(folder_path)\n",
    "    query_doc = next((doc for doc in documents if doc.metadata[\"id\"] == profile_id), None)\n",
    "    if not query_doc:\n",
    "        raise ValueError(f\"Profile with ID '{profile_id}' not found in JSON files.\")\n",
    "    \n",
    "    # Retrieve similar profiles\n",
    "    retriever = vector_store.as_retriever(search_type=\"similarity\", search_kwargs={\"k\": k + 1})\n",
    "    similar_docs = retriever.get_relevant_documents(query_doc.page_content)\n",
    "    \n",
    "    # Filter out the input profile itself\n",
    "    similar_ids = [doc.metadata[\"id\"] for doc in similar_docs if doc.metadata[\"id\"] != profile_id][:k]\n",
    "    return similar_ids"
   ]
  },
  {
   "cell_type": "code",
   "execution_count": 12,
   "metadata": {},
   "outputs": [
    {
     "name": "stdout",
     "output_type": "stream",
     "text": [
      "Embedding 1 new files...\n",
      "Top 15 similar profiles for ID 'ankurc07': ['aaditya-sanjay-b-a62630a0', 'aashita-jindal', 'diksha-mittal', 'aaryan-jaiswal', 'aastha-r', 'dhawal-barchha-2a9b031b6', 'dipramit-pal', 'dishansraao', 'aamir-wahid-723ab8a5', 'aaryan-sood-b4148216b', 'dipanki-mukherjee-pabreja-8a0198204', 'aastha-agarwal-iitiim', 'dibyangshu-sahoo-26038272', 'dhruv-singhal-709795118']\n"
     ]
    }
   ],
   "source": [
    "folder_path = \"final_user_profiles\"  # Update with your folder path\n",
    "input_profile_id = \"ankurc07\"  # Replace with your profile ID\n",
    "top_k = 15  # Number of similar profiles to retrieve\n",
    "\n",
    "similar_profiles = find_similar_profiles(input_profile_id, k=top_k, folder_path=folder_path)\n",
    "print(f\"Top {top_k} similar profiles for ID '{input_profile_id}': {similar_profiles}\")"
   ]
  },
  {
   "cell_type": "code",
   "execution_count": null,
   "metadata": {},
   "outputs": [],
   "source": []
  }
 ],
 "metadata": {
  "kernelspec": {
   "display_name": "Python 3",
   "language": "python",
   "name": "python3"
  },
  "language_info": {
   "codemirror_mode": {
    "name": "ipython",
    "version": 3
   },
   "file_extension": ".py",
   "mimetype": "text/x-python",
   "name": "python",
   "nbconvert_exporter": "python",
   "pygments_lexer": "ipython3",
   "version": "3.13.1"
  }
 },
 "nbformat": 4,
 "nbformat_minor": 2
}
